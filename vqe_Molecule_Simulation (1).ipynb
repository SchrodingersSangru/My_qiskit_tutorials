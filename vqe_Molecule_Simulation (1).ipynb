{
  "cells": [
    {
      "cell_type": "code",
      "execution_count": 1,
      "metadata": {
        "id": "c0zy1PAJJ3T7"
      },
      "outputs": [],
      "source": [
        "import numpy as np \n",
        "#import pylab \n",
        "import matplotlib.pyplot as plt\n",
        "\n",
        "from qiskit import BasicAer\n",
        "from qiskit.aqua import aqua_globals, QuantumInstance\n",
        "from qiskit.aqua.algorithms import NumPyMinimumEigensolver, VQE\n",
        "from qiskit.aqua.components.optimizers import SLSQP \n",
        "from qiskit.chemistry.components.initial_states import HartreeFock\n",
        "from qiskit.chemistry.components.variational_forms import UCCSD\n",
        "from qiskit.chemistry.drivers import PySCFDriver\n",
        "from qiskit.chemistry.core import Hamiltonian, QubitMappingType"
      ]
    },
    {
      "cell_type": "code",
      "execution_count": 2,
      "metadata": {
        "id": "JQc_bXQeMqwd"
      },
      "outputs": [],
      "source": [
        "molecule = 'H .0 .0 -{0}; H .0 .0 {0}'\n",
        "distances = np.arange(0.5, 4.25, 0.25)\n",
        "vqe_energies =[]\n",
        "hf_energies =[]\n",
        "exact_energies =[]"
      ]
    },
    {
      "cell_type": "code",
      "execution_count": 3,
      "metadata": {
        "colab": {
          "base_uri": "https://localhost:8080/"
        },
        "id": "KtyfibmYOapc",
        "outputId": "11acdfca-7768-4cb2-c645-e18dbcdde9e0"
      },
      "outputs": [
        {
          "name": "stdout",
          "output_type": "stream",
          "text": [
            "steps 0\n"
          ]
        },
        {
          "name": "stderr",
          "output_type": "stream",
          "text": [
            "/home/qulabs-sangru/anaconda3/envs/qiskit_env/lib/python3.7/site-packages/ipykernel_launcher.py:7: DeprecationWarning: The Hamiltonian class is deprecated as of Qiskit Aqua 0.8.0 and will be removed no earlier than 3 months after the release date. Instead, the FermionicTransformation can be used.\n",
            "  import sys\n"
          ]
        },
        {
          "name": "stdout",
          "output_type": "stream",
          "text": [
            "steps 1\n"
          ]
        },
        {
          "name": "stderr",
          "output_type": "stream",
          "text": [
            "/home/qulabs-sangru/anaconda3/envs/qiskit_env/lib/python3.7/site-packages/ipykernel_launcher.py:7: DeprecationWarning: The Hamiltonian class is deprecated as of Qiskit Aqua 0.8.0 and will be removed no earlier than 3 months after the release date. Instead, the FermionicTransformation can be used.\n",
            "  import sys\n"
          ]
        },
        {
          "name": "stdout",
          "output_type": "stream",
          "text": [
            "steps 2\n",
            "steps 3\n",
            "steps 4\n",
            "steps 5\n",
            "steps 6\n",
            "steps 7\n",
            "steps 8\n",
            "steps 9\n",
            "steps 10\n",
            "steps 11\n",
            "steps 12\n",
            "steps 13\n",
            "steps 14\n"
          ]
        }
      ],
      "source": [
        "for i, d in enumerate(distances):\n",
        "  print(\"steps\", i)\n",
        "  driver = PySCFDriver(molecule.format(d/2), basis = 'sto3g')\n",
        "  qmolecule = driver.run()\n",
        "  operator = Hamiltonian(qubit_mapping = QubitMappingType.PARITY, \n",
        "                         two_qubit_reduction= True, freeze_core = True,\n",
        "                         orbital_reduction= [-3, -5])\n",
        "  \n",
        "  qubit_op, aux_ops = operator.run(qmolecule)\n",
        "\n",
        "  #exact Numpy Solver\n",
        "  exact_result = NumPyMinimumEigensolver(qubit_op, aux_operators=aux_ops).run()\n",
        "  exacet_result = operator.process_algorithm_result(exact_result)\n",
        "\n",
        "\n",
        "  #VQE \n",
        "  optimizer = SLSQP(maxiter=1000)\n",
        "  initial_states = HartreeFock(operator.molecule_info['num_orbitals'],\n",
        "                               operator.molecule_info['num_particles'], \n",
        "                               qubit_mapping = operator._qubit_mapping, \n",
        "                               two_qubit_reduction= operator._two_qubit_reduction, \n",
        "                               )\n",
        "  \n",
        "  var_form = UCCSD(num_orbitals = operator.molecule_info['num_orbitals'], \n",
        "                  num_particles = operator.molecule_info['num_particles'],\n",
        "                  initial_state = initial_states, \n",
        "                  qubit_mapping = operator._qubit_mapping, \n",
        "                  two_qubit_reduction= operator._two_qubit_reduction, \n",
        "                   )\n",
        "  \n",
        "  algo = VQE(qubit_op, var_form, optimizer, aux_operators = aux_ops)\n",
        "\n",
        "  vqe_result = algo.run(QuantumInstance(BasicAer.get_backend('statevector_simulator')))\n",
        "  vqe_result = operator.process_algorithm_result(vqe_result)\n",
        "\n",
        "  exact_energies.append(exacet_result.energy)\n",
        "  vqe_energies.append(vqe_result.energy)\n",
        "  hf_energies.append(vqe_result.hartree_fock_energy)"
      ]
    },
    {
      "cell_type": "code",
      "execution_count": 4,
      "metadata": {
        "colab": {
          "base_uri": "https://localhost:8080/",
          "height": 312
        },
        "id": "Jp8jUtJNd2n4",
        "outputId": "dc2806a3-706a-4324-d66e-4b1c56fd9fe5"
      },
      "outputs": [
        {
          "data": {
            "text/plain": [
              "<matplotlib.legend.Legend at 0x7f185d138090>"
            ]
          },
          "execution_count": 4,
          "metadata": {},
          "output_type": "execute_result"
        },
        {
          "data": {
            "image/png": "[encoded data removed]",
            "text/plain": [
              "<Figure size 432x288 with 1 Axes>"
            ]
          },
          "metadata": {
            "needs_background": "light"
          },
          "output_type": "display_data"
        }
      ],
      "source": [
        "plt.plot(distances, hf_energies, label= 'Hf')\n",
        "plt.plot(distances, vqe_energies, 'o', label= 'vqe')\n",
        "plt.plot(distances, exact_energies, 'x', label= 'exact')\n",
        "\n",
        "plt.xlabel(\"Interatomic Distance\")\n",
        "plt.ylabel(\"Energy\")\n",
        "\n",
        "plt.title(\"LiH molecule simulation\")\n",
        "plt.legend(loc='upper right')\n"
      ]
    },
    {
      "cell_type": "code",
      "execution_count": null,
      "metadata": {
        "id": "idWmpK8kvtsu"
      },
      "outputs": [],
      "source": []
    }
  ],
  "metadata": {
    "colab": {
      "name": "vqe-Molecule Simulation.ipynb",
      "provenance": []
    },
    "kernelspec": {
      "display_name": "Python 3",
      "name": "python3"
    },
    "language_info": {
      "codemirror_mode": {
        "name": "ipython",
        "version": 3
      },
      "file_extension": ".py",
      "mimetype": "text/x-python",
      "name": "python",
      "nbconvert_exporter": "python",
      "pygments_lexer": "ipython3",
      "version": "3.7.11"
    }
  },
  "nbformat": 4,
  "nbformat_minor": 0
}
