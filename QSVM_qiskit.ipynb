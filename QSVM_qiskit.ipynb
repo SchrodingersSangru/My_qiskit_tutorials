{
  "cells": [
    {
      "cell_type": "code",
      "execution_count": null,
      "metadata": {
        "colab": {
          "base_uri": "https://localhost:8080/"
        },
        "id": "A0LFs1M3JTvL",
        "outputId": "1cebf062-56f1-4d83-edb3-4ada6c0e7ce1"
      },
      "outputs": [],
      "source": []
    },
    {
      "cell_type": "code",
      "execution_count": 1,
      "metadata": {
        "id": "egOLL7ygKBmk"
      },
      "outputs": [],
      "source": [
        "import qiskit"
      ]
    },
    {
      "cell_type": "code",
      "execution_count": 2,
      "metadata": {
        "id": "c0zy1PAJJ3T7"
      },
      "outputs": [],
      "source": [
        "import numpy as np \n",
        "import matplotlib.pyplot as plt\n",
        "\n",
        "from qiskit import BasicAer\n",
        "from qiskit.ml.datasets import ad_hoc_data\n",
        "from qiskit.aqua import QuantumInstance\n",
        "from qiskit.aqua.algorithms import QSVM\n",
        "from qiskit.circuit.library import ZZFeatureMap\n",
        "from qiskit.aqua.utils import split_dataset_to_data_and_labels, map_label_to_class_name"
      ]
    },
    {
      "cell_type": "code",
      "execution_count": 3,
      "metadata": {
        "id": "JQc_bXQeMqwd"
      },
      "outputs": [
        {
          "data": {
            "image/png": "[encoded data removed]",
            "text/plain": [
              "<Figure size 432x288 with 1 Axes>"
            ]
          },
          "metadata": {
            "needs_background": "light"
          },
          "output_type": "display_data"
        },
        {
          "name": "stdout",
          "output_type": "stream",
          "text": [
            "{'A': 0, 'B': 1}\n"
          ]
        }
      ],
      "source": [
        "feature_dim = 2\n",
        "training_dataset_size = 10\n",
        "testing_dataset_size = 20\n",
        "random_seed = 10598\n",
        "shot = 10000\n",
        "sampel_total, training_input, test_input, class_labels = ad_hoc_data(training_size = training_dataset_size, \n",
        "                                                         test_size = testing_dataset_size,\n",
        "                                                         gap = 0.2, \n",
        "                                                         n= feature_dim,\n",
        "                                                         plot_data = True)\n",
        "\n",
        "datapoints, class_to_label = split_dataset_to_data_and_labels(test_input)\n",
        "print(class_to_label)"
      ]
    },
    {
      "cell_type": "code",
      "execution_count": 5,
      "metadata": {
        "id": "C9daZCu_hTtq"
      },
      "outputs": [],
      "source": [
        "backend = BasicAer.get_backend('qasm_simulator')\n",
        "feature_map = ZZFeatureMap(feature_dim, reps =2)\n",
        "qsvm = QSVM(feature_map, training_input, test_input, None) \n",
        "qsvm.random_seed = random_seed\n",
        "quantum_instance = QuantumInstance(backend, shots=1000, seed_simulator =random_seed, seed_transpiler =random_seed)\n",
        "result = qsvm.run(quantum_instance)"
      ]
    },
    {
      "cell_type": "code",
      "execution_count": 6,
      "metadata": {
        "id": "KtyfibmYOapc"
      },
      "outputs": [
        {
          "name": "stdout",
          "output_type": "stream",
          "text": [
            "kernel matrix during the training\n"
          ]
        },
        {
          "data": {
            "image/png": "[encoded data removed]",
            "text/plain": [
              "<Figure size 432x288 with 1 Axes>"
            ]
          },
          "metadata": {
            "needs_background": "light"
          },
          "output_type": "display_data"
        }
      ],
      "source": [
        "print(\"kernel matrix during the training\")\n",
        "kernel_matrix = result['kernel_matrix_training']\n",
        "img = plt.imshow(np.asmatrix(kernel_matrix), interpolation= 'nearest', origin ='lower', cmap= 'bone_r')\n",
        "plt.show()"
      ]
    },
    {
      "cell_type": "code",
      "execution_count": 9,
      "metadata": {
        "id": "Jp8jUtJNd2n4"
      },
      "outputs": [
        {
          "name": "stdout",
          "output_type": "stream",
          "text": [
            "Ground_truth [0 0 0 0 0 0 0 0 0 0 0 0 0 0 0 0 0 0 0 0 1 1 1 1 1 1 1 1 1 1 1 1 1 1 1 1 1\n",
            " 1 1 1]\n",
            "prediction [1 0 0 0 1 0 0 0 0 0 1 0 0 0 0 0 0 0 0 0 1 1 1 1 1 1 1 1 1 1 0 0 1 1 0 1 1\n",
            " 0 1 1]\n",
            "testing success_ratio: 0.825\n"
          ]
        }
      ],
      "source": [
        "predicted_labels = qsvm.predict(datapoints[0])\n",
        "predicted_classes = map_label_to_class_name(predicted_labels, qsvm.label_to_class)\n",
        "print(\"Ground_truth {}\".format(datapoints[1]))\n",
        "print(\"prediction {}\".format(predicted_labels))\n",
        "\n",
        "print(\"testing success_ratio:\", result['testing_accuracy'])"
      ]
    },
    {
      "cell_type": "code",
      "execution_count": null,
      "metadata": {
        "id": "idWmpK8kvtsu"
      },
      "outputs": [],
      "source": []
    },
    {
      "cell_type": "code",
      "execution_count": null,
      "metadata": {
        "id": "HbW7dpm4BRI9"
      },
      "outputs": [],
      "source": []
    }
  ],
  "metadata": {
    "colab": {
      "name": "QSVM-qiskit.ipynb",
      "provenance": []
    },
    "kernelspec": {
      "display_name": "Python 3",
      "name": "python3"
    },
    "language_info": {
      "codemirror_mode": {
        "name": "ipython",
        "version": 3
      },
      "file_extension": ".py",
      "mimetype": "text/x-python",
      "name": "python",
      "nbconvert_exporter": "python",
      "pygments_lexer": "ipython3",
      "version": "3.7.11"
    }
  },
  "nbformat": 4,
  "nbformat_minor": 0
}
